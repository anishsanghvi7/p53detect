{
 "cells": [
  {
   "cell_type": "markdown",
   "id": "690feffa-b9fd-4d33-9307-95218b9897bd",
   "metadata": {},
   "source": [
    "# p53detect"
   ]
  },
  {
   "cell_type": "markdown",
   "id": "c6ae814f-4bbf-470a-b897-fbbb415febd0",
   "metadata": {},
   "source": [
    "Machine Learning algorithm that predicts the pathogenicity of mutated tp53 genes in pediatric cancer samples."
   ]
  },
  {
   "cell_type": "markdown",
   "id": "d8522a53-566c-4cc7-a647-995c10ede582",
   "metadata": {},
   "source": [
    "## Libraries"
   ]
  },
  {
   "cell_type": "code",
   "execution_count": 1,
   "id": "aded3fdf-6a5a-4a24-9ad6-a8f724803e9e",
   "metadata": {},
   "outputs": [],
   "source": [
    "# Importing the required libraries\n",
    "import pandas as pd\n",
    "import numpy as np\n",
    "import os\n",
    "import matplotlib.pyplot as plt\n",
    "import seaborn as sns\n",
    "import plotly.express as px\n",
    "from vcf2pandas import vcf2pandas\n",
    "\n",
    "# Sci-kit learn libraries\n",
    "from sklearn.model_selection import train_test_split, RandomizedSearchCV, KFold,learning_curve, StratifiedKFold\n",
    "from sklearn.ensemble import RandomForestClassifier\n",
    "from sklearn.metrics import accuracy_score, balanced_accuracy_score, classification_report, precision_recall_curve\n",
    "from sklearn.metrics import PrecisionRecallDisplay, confusion_matrix, ConfusionMatrixDisplay, mean_squared_error, r2_score\n",
    "from sklearn.metrics import mean_absolute_error, median_absolute_error, explained_variance_score\n",
    "from sklearn.metrics import precision_score, recall_score, f1_score, roc_auc_score, roc_curve\n",
    "from sklearn.preprocessing import LabelEncoder, MinMaxScaler"
   ]
  },
  {
   "cell_type": "markdown",
   "id": "2a524125-ee25-4a9f-9faa-f36d260360d7",
   "metadata": {},
   "source": [
    "## Data pre-processing"
   ]
  },
  {
   "cell_type": "code",
   "execution_count": null,
   "id": "3b1a1dfa-b3f2-4630-9f8e-0fafb467986f",
   "metadata": {},
   "outputs": [],
   "source": []
  },
  {
   "cell_type": "markdown",
   "id": "b8506c8e-448e-48c7-9691-f8780a662c5e",
   "metadata": {},
   "source": [
    "## Exploratory Data Analysis"
   ]
  },
  {
   "cell_type": "code",
   "execution_count": null,
   "id": "bdf1bf35-4e58-41e0-8e46-2fc6e4f8931b",
   "metadata": {},
   "outputs": [],
   "source": []
  },
  {
   "cell_type": "markdown",
   "id": "533f8953-17a2-41b7-b989-e021f412132b",
   "metadata": {},
   "source": [
    "## Feature Engineering"
   ]
  },
  {
   "cell_type": "code",
   "execution_count": null,
   "id": "32b86f0a-3e04-4b98-9c3c-33129c99a391",
   "metadata": {},
   "outputs": [],
   "source": []
  },
  {
   "cell_type": "markdown",
   "id": "fbd89651-3a92-4b73-9556-7664cdd61712",
   "metadata": {},
   "source": [
    "## Model Construction"
   ]
  },
  {
   "cell_type": "code",
   "execution_count": null,
   "id": "add40db7-b19a-4cd9-8167-cbb2e9f92be1",
   "metadata": {},
   "outputs": [],
   "source": []
  }
 ],
 "metadata": {
  "kernelspec": {
   "display_name": "env",
   "language": "python",
   "name": "env"
  },
  "language_info": {
   "codemirror_mode": {
    "name": "ipython",
    "version": 3
   },
   "file_extension": ".py",
   "mimetype": "text/x-python",
   "name": "python",
   "nbconvert_exporter": "python",
   "pygments_lexer": "ipython3",
   "version": "3.13.0"
  }
 },
 "nbformat": 4,
 "nbformat_minor": 5
}
